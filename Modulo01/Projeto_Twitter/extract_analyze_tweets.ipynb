{
 "cells": [
  {
   "cell_type": "markdown",
   "metadata": {},
   "source": [
    "## Extrai Tweets"
   ]
  },
  {
   "cell_type": "code",
   "execution_count": 3,
   "metadata": {},
   "outputs": [],
   "source": [
    "# Instalando Bibliotecas\n",
    "#!pip install tweepy datetime"
   ]
  },
  {
   "cell_type": "markdown",
   "metadata": {},
   "source": [
    "## Play"
   ]
  },
  {
   "cell_type": "code",
   "execution_count": null,
   "metadata": {},
   "outputs": [],
   "source": [
    "!python get_tweets.py"
   ]
  },
  {
   "cell_type": "markdown",
   "metadata": {},
   "source": [
    "## Entendo o formato JSON"
   ]
  },
  {
   "cell_type": "code",
   "execution_count": 1,
   "metadata": {},
   "outputs": [],
   "source": [
    "# Importando biblioteca\n",
    "import json"
   ]
  },
  {
   "cell_type": "code",
   "execution_count": 2,
   "metadata": {},
   "outputs": [],
   "source": [
    "# Carregando o arquivos com os Tweets\n",
    "with open('collected_tweets2020-11-24-21-01-04.txt','r') as file:\n",
    "    tweets = file.readlines()"
   ]
  },
  {
   "cell_type": "code",
   "execution_count": 3,
   "metadata": {},
   "outputs": [],
   "source": [
    "# Fazendo parse do tweet para um formato json e exporta arquivo\n",
    "with open('tweets.json','w') as f:\n",
    "    json.dump(\n",
    "        json.loads(json.loads(tweets[0])), \n",
    "        f\n",
    "    )"
   ]
  },
  {
   "cell_type": "code",
   "execution_count": null,
   "metadata": {},
   "outputs": [],
   "source": [
    "json.loads(\n",
    "    json.loads(tweets[0])\n",
    ")"
   ]
  },
  {
   "cell_type": "code",
   "execution_count": 6,
   "metadata": {},
   "outputs": [],
   "source": [
    "parsed_tweets = [json.loads(json.loads(i)) for i in tweets]"
   ]
  },
  {
   "cell_type": "code",
   "execution_count": 7,
   "metadata": {},
   "outputs": [
    {
     "data": {
      "text/plain": [
       "18453"
      ]
     },
     "execution_count": 7,
     "metadata": {},
     "output_type": "execute_result"
    }
   ],
   "source": [
    "# Quantidade de Tweets coletados\n",
    "len(parsed_tweets)"
   ]
  },
  {
   "cell_type": "markdown",
   "metadata": {},
   "source": [
    "## Acessando as chaves do JSON (dicionário)"
   ]
  },
  {
   "cell_type": "code",
   "execution_count": 8,
   "metadata": {},
   "outputs": [],
   "source": [
    "primeiro_tweet = parsed_tweets[1]"
   ]
  },
  {
   "cell_type": "code",
   "execution_count": 9,
   "metadata": {},
   "outputs": [
    {
     "data": {
      "text/plain": [
       "('id', 1331387365638729731)"
      ]
     },
     "execution_count": 9,
     "metadata": {},
     "output_type": "execute_result"
    }
   ],
   "source": [
    "list(primeiro_tweet.items())[1]"
   ]
  },
  {
   "cell_type": "code",
   "execution_count": 10,
   "metadata": {},
   "outputs": [
    {
     "data": {
      "text/plain": [
       "\"RT @GlennKesslerWP: We've updated the Trump Claims Database! He's now at 23,035 false or misleading claims as of Sept. 11. That means 525 a…\""
      ]
     },
     "execution_count": 10,
     "metadata": {},
     "output_type": "execute_result"
    }
   ],
   "source": [
    "# Acessar texto do Tweet\n",
    "# Chave de primero nível (Root)\n",
    "primeiro_tweet['text']"
   ]
  },
  {
   "cell_type": "code",
   "execution_count": 11,
   "metadata": {},
   "outputs": [
    {
     "data": {
      "text/plain": [
       "'hypatiaerotica'"
      ]
     },
     "execution_count": 11,
     "metadata": {},
     "output_type": "execute_result"
    }
   ],
   "source": [
    "# Acessar o screen_name do User\n",
    "primeiro_tweet['user'][\"screen_name\"]"
   ]
  },
  {
   "cell_type": "code",
   "execution_count": 12,
   "metadata": {},
   "outputs": [
    {
     "data": {
      "text/plain": [
       "'Tue Nov 24 21:05:13 +0000 2020'"
      ]
     },
     "execution_count": 12,
     "metadata": {},
     "output_type": "execute_result"
    }
   ],
   "source": [
    "# Informação do Tweet original\n",
    "primeiro_tweet['retweeted_status'][\"created_at\"]"
   ]
  },
  {
   "cell_type": "code",
   "execution_count": 13,
   "metadata": {},
   "outputs": [
    {
     "data": {
      "text/plain": [
       "[]"
      ]
     },
     "execution_count": 13,
     "metadata": {},
     "output_type": "execute_result"
    }
   ],
   "source": [
    "# Buscando o nome do primeiro Usuário mencionado\n",
    "primeiro_tweet['retweeted_status']['entities']['user_mentions']"
   ]
  },
  {
   "cell_type": "markdown",
   "metadata": {},
   "source": [
    "## Transformar os Tweets em uma estrutura relacional analisável"
   ]
  },
  {
   "cell_type": "code",
   "execution_count": 14,
   "metadata": {},
   "outputs": [],
   "source": [
    "import pandas as pd"
   ]
  },
  {
   "cell_type": "code",
   "execution_count": null,
   "metadata": {},
   "outputs": [],
   "source": [
    "teste = pd.DataFrame(primeiro_tweet)\n",
    "teste\n",
    "# Não funciona"
   ]
  },
  {
   "cell_type": "code",
   "execution_count": 15,
   "metadata": {},
   "outputs": [],
   "source": [
    "df_tratado = pd.DataFrame(primeiro_tweet).reset_index(drop=True).iloc[:1]"
   ]
  },
  {
   "cell_type": "code",
   "execution_count": 16,
   "metadata": {},
   "outputs": [
    {
     "data": {
      "text/plain": [
       "Index(['created_at', 'id', 'id_str', 'text', 'source', 'truncated',\n",
       "       'in_reply_to_status_id', 'in_reply_to_status_id_str',\n",
       "       'in_reply_to_user_id', 'in_reply_to_user_id_str',\n",
       "       'in_reply_to_screen_name', 'user', 'geo', 'coordinates', 'place',\n",
       "       'contributors', 'retweeted_status', 'is_quote_status', 'quote_count',\n",
       "       'reply_count', 'retweet_count', 'favorite_count', 'entities',\n",
       "       'favorited', 'retweeted', 'filter_level', 'lang', 'timestamp_ms'],\n",
       "      dtype='object')"
      ]
     },
     "execution_count": 16,
     "metadata": {},
     "output_type": "execute_result"
    }
   ],
   "source": [
    "df_tratado.columns"
   ]
  },
  {
   "cell_type": "code",
   "execution_count": 17,
   "metadata": {},
   "outputs": [],
   "source": [
    "df_tratado.drop(\n",
    "    columns=['quote_count','reply_count','retweet_count','favorite_count','favorited','retweeted','user','retweeted_status'], \n",
    "    inplace=True\n",
    ")"
   ]
  },
  {
   "cell_type": "code",
   "execution_count": 18,
   "metadata": {},
   "outputs": [],
   "source": [
    "df_tratado['user_id'] = primeiro_tweet['user']['id']\n",
    "df_tratado['user_id_str'] = primeiro_tweet['user']['id_str']\n",
    "df_tratado['user_screen_name'] = primeiro_tweet['user']['screen_name']\n",
    "df_tratado['user_location'] = primeiro_tweet['user']['location']\n",
    "df_tratado['user_description'] = primeiro_tweet['user']['description']\n",
    "df_tratado['user_protected'] = primeiro_tweet['user']['protected']\n",
    "df_tratado['user_verified'] = primeiro_tweet['user']['verified']\n",
    "df_tratado['user_followers_count'] = primeiro_tweet['user']['followers_count']\n",
    "df_tratado['user_friends_count'] = primeiro_tweet['user']['friends_count']\n",
    "df_tratado['user_created_at'] = primeiro_tweet['user']['created_at']"
   ]
  },
  {
   "cell_type": "code",
   "execution_count": 19,
   "metadata": {},
   "outputs": [
    {
     "data": {
      "text/html": [
       "<div>\n",
       "<style scoped>\n",
       "    .dataframe tbody tr th:only-of-type {\n",
       "        vertical-align: middle;\n",
       "    }\n",
       "\n",
       "    .dataframe tbody tr th {\n",
       "        vertical-align: top;\n",
       "    }\n",
       "\n",
       "    .dataframe thead th {\n",
       "        text-align: right;\n",
       "    }\n",
       "</style>\n",
       "<table border=\"1\" class=\"dataframe\">\n",
       "  <thead>\n",
       "    <tr style=\"text-align: right;\">\n",
       "      <th></th>\n",
       "      <th>created_at</th>\n",
       "      <th>id</th>\n",
       "      <th>id_str</th>\n",
       "      <th>text</th>\n",
       "      <th>source</th>\n",
       "      <th>truncated</th>\n",
       "      <th>in_reply_to_status_id</th>\n",
       "      <th>in_reply_to_status_id_str</th>\n",
       "      <th>in_reply_to_user_id</th>\n",
       "      <th>in_reply_to_user_id_str</th>\n",
       "      <th>...</th>\n",
       "      <th>user_id</th>\n",
       "      <th>user_id_str</th>\n",
       "      <th>user_screen_name</th>\n",
       "      <th>user_location</th>\n",
       "      <th>user_description</th>\n",
       "      <th>user_protected</th>\n",
       "      <th>user_verified</th>\n",
       "      <th>user_followers_count</th>\n",
       "      <th>user_friends_count</th>\n",
       "      <th>user_created_at</th>\n",
       "    </tr>\n",
       "  </thead>\n",
       "  <tbody>\n",
       "    <tr>\n",
       "      <th>0</th>\n",
       "      <td>Wed Nov 25 00:00:58 +0000 2020</td>\n",
       "      <td>1331387365638729731</td>\n",
       "      <td>1331387365638729731</td>\n",
       "      <td>RT @GlennKesslerWP: We've updated the Trump Cl...</td>\n",
       "      <td>&lt;a href=\"https://mobile.twitter.com\" rel=\"nofo...</td>\n",
       "      <td>False</td>\n",
       "      <td>None</td>\n",
       "      <td>None</td>\n",
       "      <td>None</td>\n",
       "      <td>None</td>\n",
       "      <td>...</td>\n",
       "      <td>4815996935</td>\n",
       "      <td>4815996935</td>\n",
       "      <td>hypatiaerotica</td>\n",
       "      <td>None</td>\n",
       "      <td>Author of steamy, sensual erotic romance/eroti...</td>\n",
       "      <td>False</td>\n",
       "      <td>False</td>\n",
       "      <td>1384</td>\n",
       "      <td>814</td>\n",
       "      <td>Fri Jan 15 17:07:57 +0000 2016</td>\n",
       "    </tr>\n",
       "  </tbody>\n",
       "</table>\n",
       "<p>1 rows × 30 columns</p>\n",
       "</div>"
      ],
      "text/plain": [
       "                       created_at                   id               id_str  \\\n",
       "0  Wed Nov 25 00:00:58 +0000 2020  1331387365638729731  1331387365638729731   \n",
       "\n",
       "                                                text  \\\n",
       "0  RT @GlennKesslerWP: We've updated the Trump Cl...   \n",
       "\n",
       "                                              source  truncated  \\\n",
       "0  <a href=\"https://mobile.twitter.com\" rel=\"nofo...      False   \n",
       "\n",
       "  in_reply_to_status_id in_reply_to_status_id_str in_reply_to_user_id  \\\n",
       "0                  None                      None                None   \n",
       "\n",
       "  in_reply_to_user_id_str  ...     user_id user_id_str user_screen_name  \\\n",
       "0                    None  ...  4815996935  4815996935   hypatiaerotica   \n",
       "\n",
       "  user_location                                   user_description  \\\n",
       "0          None  Author of steamy, sensual erotic romance/eroti...   \n",
       "\n",
       "   user_protected user_verified user_followers_count user_friends_count  \\\n",
       "0           False         False                 1384                814   \n",
       "\n",
       "                  user_created_at  \n",
       "0  Fri Jan 15 17:07:57 +0000 2016  \n",
       "\n",
       "[1 rows x 30 columns]"
      ]
     },
     "execution_count": 19,
     "metadata": {},
     "output_type": "execute_result"
    }
   ],
   "source": [
    "df_tratado"
   ]
  },
  {
   "cell_type": "code",
   "execution_count": 20,
   "metadata": {},
   "outputs": [
    {
     "data": {
      "text/plain": [
       "{'hashtags': [],\n",
       " 'urls': [],\n",
       " 'user_mentions': [{'screen_name': 'GlennKesslerWP',\n",
       "   'name': 'Glenn Kessler',\n",
       "   'id': 235196204,\n",
       "   'id_str': '235196204',\n",
       "   'indices': [3, 18]}],\n",
       " 'symbols': []}"
      ]
     },
     "execution_count": 20,
     "metadata": {},
     "output_type": "execute_result"
    }
   ],
   "source": [
    "# Entidades\n",
    "primeiro_tweet['entities']"
   ]
  },
  {
   "cell_type": "code",
   "execution_count": 21,
   "metadata": {},
   "outputs": [
    {
     "data": {
      "text/plain": [
       "[{'screen_name': 'GlennKesslerWP',\n",
       "  'name': 'Glenn Kessler',\n",
       "  'id': 235196204,\n",
       "  'id_str': '235196204',\n",
       "  'indices': [3, 18]}]"
      ]
     },
     "execution_count": 21,
     "metadata": {},
     "output_type": "execute_result"
    }
   ],
   "source": [
    "primeiro_tweet['entities']['user_mentions']"
   ]
  },
  {
   "cell_type": "code",
   "execution_count": 22,
   "metadata": {},
   "outputs": [],
   "source": [
    "user_mentions = []\n",
    "\n",
    "for i in range(len(primeiro_tweet['entities']['user_mentions'])):\n",
    "    dicionario_base = primeiro_tweet['entities']['user_mentions'][i].copy()\n",
    "    dicionario_base.pop('indices', None)\n",
    "    df = pd.DataFrame(dicionario_base, index=[0])\n",
    "    df = df.rename(columns={\n",
    "        'screen_name':'entities_screen_name',\n",
    "        'name': 'entities_name',\n",
    "        'id': 'entities_id',\n",
    "        'id_str': 'entities_id_str'\n",
    "    })\n",
    "    user_mentions.append(df)"
   ]
  },
  {
   "cell_type": "code",
   "execution_count": 23,
   "metadata": {},
   "outputs": [
    {
     "data": {
      "text/plain": [
       "[  entities_screen_name  entities_name  entities_id entities_id_str\n",
       " 0       GlennKesslerWP  Glenn Kessler    235196204       235196204]"
      ]
     },
     "execution_count": 23,
     "metadata": {},
     "output_type": "execute_result"
    }
   ],
   "source": [
    "user_mentions"
   ]
  },
  {
   "cell_type": "code",
   "execution_count": 24,
   "metadata": {},
   "outputs": [],
   "source": [
    "dfs = []\n",
    "for i in user_mentions:\n",
    "    dfs.append(\n",
    "        pd.concat([df_tratado.copy(), i], axis=1)\n",
    "    )"
   ]
  },
  {
   "cell_type": "code",
   "execution_count": 25,
   "metadata": {},
   "outputs": [
    {
     "data": {
      "text/html": [
       "<div>\n",
       "<style scoped>\n",
       "    .dataframe tbody tr th:only-of-type {\n",
       "        vertical-align: middle;\n",
       "    }\n",
       "\n",
       "    .dataframe tbody tr th {\n",
       "        vertical-align: top;\n",
       "    }\n",
       "\n",
       "    .dataframe thead th {\n",
       "        text-align: right;\n",
       "    }\n",
       "</style>\n",
       "<table border=\"1\" class=\"dataframe\">\n",
       "  <thead>\n",
       "    <tr style=\"text-align: right;\">\n",
       "      <th></th>\n",
       "      <th>created_at</th>\n",
       "      <th>id</th>\n",
       "      <th>id_str</th>\n",
       "      <th>text</th>\n",
       "      <th>source</th>\n",
       "      <th>truncated</th>\n",
       "      <th>in_reply_to_status_id</th>\n",
       "      <th>in_reply_to_status_id_str</th>\n",
       "      <th>in_reply_to_user_id</th>\n",
       "      <th>in_reply_to_user_id_str</th>\n",
       "      <th>...</th>\n",
       "      <th>user_description</th>\n",
       "      <th>user_protected</th>\n",
       "      <th>user_verified</th>\n",
       "      <th>user_followers_count</th>\n",
       "      <th>user_friends_count</th>\n",
       "      <th>user_created_at</th>\n",
       "      <th>entities_screen_name</th>\n",
       "      <th>entities_name</th>\n",
       "      <th>entities_id</th>\n",
       "      <th>entities_id_str</th>\n",
       "    </tr>\n",
       "  </thead>\n",
       "  <tbody>\n",
       "    <tr>\n",
       "      <th>0</th>\n",
       "      <td>Wed Nov 25 00:00:58 +0000 2020</td>\n",
       "      <td>1331387365638729731</td>\n",
       "      <td>1331387365638729731</td>\n",
       "      <td>RT @GlennKesslerWP: We've updated the Trump Cl...</td>\n",
       "      <td>&lt;a href=\"https://mobile.twitter.com\" rel=\"nofo...</td>\n",
       "      <td>False</td>\n",
       "      <td>None</td>\n",
       "      <td>None</td>\n",
       "      <td>None</td>\n",
       "      <td>None</td>\n",
       "      <td>...</td>\n",
       "      <td>Author of steamy, sensual erotic romance/eroti...</td>\n",
       "      <td>False</td>\n",
       "      <td>False</td>\n",
       "      <td>1384</td>\n",
       "      <td>814</td>\n",
       "      <td>Fri Jan 15 17:07:57 +0000 2016</td>\n",
       "      <td>GlennKesslerWP</td>\n",
       "      <td>Glenn Kessler</td>\n",
       "      <td>235196204</td>\n",
       "      <td>235196204</td>\n",
       "    </tr>\n",
       "  </tbody>\n",
       "</table>\n",
       "<p>1 rows × 34 columns</p>\n",
       "</div>"
      ],
      "text/plain": [
       "                       created_at                   id               id_str  \\\n",
       "0  Wed Nov 25 00:00:58 +0000 2020  1331387365638729731  1331387365638729731   \n",
       "\n",
       "                                                text  \\\n",
       "0  RT @GlennKesslerWP: We've updated the Trump Cl...   \n",
       "\n",
       "                                              source  truncated  \\\n",
       "0  <a href=\"https://mobile.twitter.com\" rel=\"nofo...      False   \n",
       "\n",
       "  in_reply_to_status_id in_reply_to_status_id_str in_reply_to_user_id  \\\n",
       "0                  None                      None                None   \n",
       "\n",
       "  in_reply_to_user_id_str  ...  \\\n",
       "0                    None  ...   \n",
       "\n",
       "                                    user_description user_protected  \\\n",
       "0  Author of steamy, sensual erotic romance/eroti...          False   \n",
       "\n",
       "  user_verified user_followers_count user_friends_count  \\\n",
       "0         False                 1384                814   \n",
       "\n",
       "                  user_created_at entities_screen_name  entities_name  \\\n",
       "0  Fri Jan 15 17:07:57 +0000 2016       GlennKesslerWP  Glenn Kessler   \n",
       "\n",
       "  entities_id entities_id_str  \n",
       "0   235196204       235196204  \n",
       "\n",
       "[1 rows x 34 columns]"
      ]
     },
     "execution_count": 25,
     "metadata": {},
     "output_type": "execute_result"
    }
   ],
   "source": [
    "pd.concat(dfs, ignore_index=True)"
   ]
  },
  {
   "cell_type": "code",
   "execution_count": 26,
   "metadata": {},
   "outputs": [],
   "source": [
    "def tweet_para_df(tweet):\n",
    "    try:\n",
    "        df_tratado = pd.DataFrame(primeiro_tweet).reset_index(drop=True).iloc[:1]\n",
    "        df_tratado.drop(columns=['quote_count','reply_count','retweet_count','favorite_count','favorited','retweeted','user','retweeted_status'], inplace=True)\n",
    "        df_tratado['user_id'] = tweet['user']['id']\n",
    "        df_tratado['user_id_str'] = tweet['user']['id_str']\n",
    "        df_tratado['user_screen_name'] = tweet['user']['screen_name']\n",
    "        df_tratado['user_location'] = tweet['user']['location']\n",
    "        df_tratado['user_description'] = tweet['user']['description']\n",
    "        df_tratado['user_protected'] = tweet['user']['protected']\n",
    "        df_tratado['user_verified'] = tweet['user']['verified']\n",
    "        df_tratado['user_followers_count'] = tweet['user']['followers_count']\n",
    "        df_tratado['user_friends_count'] = tweet['user']['friends_count']\n",
    "        df_tratado['user_created_at'] = tweet['user']['created_at']\n",
    "\n",
    "        user_mentions = []\n",
    "        for i in range(len(tweet['entities']['user_mentions'])):\n",
    "            dicionario_base = tweet['entities']['user_mentions'][i].copy()\n",
    "            dicionario_base.pop('indices', None)\n",
    "            df = pd.DataFrame(dicionario_base, index=[0])\n",
    "            df = df.rename(columns={\n",
    "                'screen_name':'entities_screen_name',\n",
    "                'name': 'entities_name',\n",
    "                'id': 'entities_id',\n",
    "                'id_str': 'entities_id_str'\n",
    "            })\n",
    "            user_mentions.append(df)\n",
    "\n",
    "        dfs = []\n",
    "        for i in user_mentions:\n",
    "            dfs.append(pd.concat([df_tratado.copy(), i], axis=1))\n",
    "        df_final = pd.concat(dfs, ignore_index=True)\n",
    "    except:\n",
    "        return None\n",
    "    return df_final"
   ]
  },
  {
   "cell_type": "code",
   "execution_count": 27,
   "metadata": {},
   "outputs": [
    {
     "data": {
      "text/html": [
       "<div>\n",
       "<style scoped>\n",
       "    .dataframe tbody tr th:only-of-type {\n",
       "        vertical-align: middle;\n",
       "    }\n",
       "\n",
       "    .dataframe tbody tr th {\n",
       "        vertical-align: top;\n",
       "    }\n",
       "\n",
       "    .dataframe thead th {\n",
       "        text-align: right;\n",
       "    }\n",
       "</style>\n",
       "<table border=\"1\" class=\"dataframe\">\n",
       "  <thead>\n",
       "    <tr style=\"text-align: right;\">\n",
       "      <th></th>\n",
       "      <th>created_at</th>\n",
       "      <th>id</th>\n",
       "      <th>id_str</th>\n",
       "      <th>text</th>\n",
       "      <th>source</th>\n",
       "      <th>truncated</th>\n",
       "      <th>in_reply_to_status_id</th>\n",
       "      <th>in_reply_to_status_id_str</th>\n",
       "      <th>in_reply_to_user_id</th>\n",
       "      <th>in_reply_to_user_id_str</th>\n",
       "      <th>...</th>\n",
       "      <th>user_description</th>\n",
       "      <th>user_protected</th>\n",
       "      <th>user_verified</th>\n",
       "      <th>user_followers_count</th>\n",
       "      <th>user_friends_count</th>\n",
       "      <th>user_created_at</th>\n",
       "      <th>entities_screen_name</th>\n",
       "      <th>entities_name</th>\n",
       "      <th>entities_id</th>\n",
       "      <th>entities_id_str</th>\n",
       "    </tr>\n",
       "  </thead>\n",
       "  <tbody>\n",
       "    <tr>\n",
       "      <th>0</th>\n",
       "      <td>Wed Nov 25 00:00:58 +0000 2020</td>\n",
       "      <td>1331387365638729731</td>\n",
       "      <td>1331387365638729731</td>\n",
       "      <td>RT @GlennKesslerWP: We've updated the Trump Cl...</td>\n",
       "      <td>&lt;a href=\"https://mobile.twitter.com\" rel=\"nofo...</td>\n",
       "      <td>False</td>\n",
       "      <td>None</td>\n",
       "      <td>None</td>\n",
       "      <td>None</td>\n",
       "      <td>None</td>\n",
       "      <td>...</td>\n",
       "      <td>None</td>\n",
       "      <td>False</td>\n",
       "      <td>False</td>\n",
       "      <td>74</td>\n",
       "      <td>352</td>\n",
       "      <td>Thu Aug 27 00:41:57 +0000 2015</td>\n",
       "      <td>robbystarbuck</td>\n",
       "      <td>Robby Starbuck</td>\n",
       "      <td>16523905</td>\n",
       "      <td>16523905</td>\n",
       "    </tr>\n",
       "    <tr>\n",
       "      <th>1</th>\n",
       "      <td>Wed Nov 25 00:00:58 +0000 2020</td>\n",
       "      <td>1331387365638729731</td>\n",
       "      <td>1331387365638729731</td>\n",
       "      <td>RT @GlennKesslerWP: We've updated the Trump Cl...</td>\n",
       "      <td>&lt;a href=\"https://mobile.twitter.com\" rel=\"nofo...</td>\n",
       "      <td>False</td>\n",
       "      <td>None</td>\n",
       "      <td>None</td>\n",
       "      <td>None</td>\n",
       "      <td>None</td>\n",
       "      <td>...</td>\n",
       "      <td>None</td>\n",
       "      <td>False</td>\n",
       "      <td>False</td>\n",
       "      <td>74</td>\n",
       "      <td>352</td>\n",
       "      <td>Thu Aug 27 00:41:57 +0000 2015</td>\n",
       "      <td>realDonaldTrump</td>\n",
       "      <td>Donald J. Trump</td>\n",
       "      <td>25073877</td>\n",
       "      <td>25073877</td>\n",
       "    </tr>\n",
       "  </tbody>\n",
       "</table>\n",
       "<p>2 rows × 34 columns</p>\n",
       "</div>"
      ],
      "text/plain": [
       "                       created_at                   id               id_str  \\\n",
       "0  Wed Nov 25 00:00:58 +0000 2020  1331387365638729731  1331387365638729731   \n",
       "1  Wed Nov 25 00:00:58 +0000 2020  1331387365638729731  1331387365638729731   \n",
       "\n",
       "                                                text  \\\n",
       "0  RT @GlennKesslerWP: We've updated the Trump Cl...   \n",
       "1  RT @GlennKesslerWP: We've updated the Trump Cl...   \n",
       "\n",
       "                                              source  truncated  \\\n",
       "0  <a href=\"https://mobile.twitter.com\" rel=\"nofo...      False   \n",
       "1  <a href=\"https://mobile.twitter.com\" rel=\"nofo...      False   \n",
       "\n",
       "  in_reply_to_status_id in_reply_to_status_id_str in_reply_to_user_id  \\\n",
       "0                  None                      None                None   \n",
       "1                  None                      None                None   \n",
       "\n",
       "  in_reply_to_user_id_str  ... user_description user_protected user_verified  \\\n",
       "0                    None  ...             None          False         False   \n",
       "1                    None  ...             None          False         False   \n",
       "\n",
       "  user_followers_count user_friends_count                 user_created_at  \\\n",
       "0                   74                352  Thu Aug 27 00:41:57 +0000 2015   \n",
       "1                   74                352  Thu Aug 27 00:41:57 +0000 2015   \n",
       "\n",
       "  entities_screen_name    entities_name entities_id entities_id_str  \n",
       "0        robbystarbuck   Robby Starbuck    16523905        16523905  \n",
       "1      realDonaldTrump  Donald J. Trump    25073877        25073877  \n",
       "\n",
       "[2 rows x 34 columns]"
      ]
     },
     "execution_count": 27,
     "metadata": {},
     "output_type": "execute_result"
    }
   ],
   "source": [
    "tweet_para_df(parsed_tweets[2])"
   ]
  },
  {
   "cell_type": "code",
   "execution_count": 28,
   "metadata": {},
   "outputs": [
    {
     "name": "stdout",
     "output_type": "stream",
     "text": [
      "Wall time: 3min\n"
     ]
    }
   ],
   "source": [
    "%%time\n",
    "# Vamos iterar e transformar os Tweets\n",
    "parseados = [tweet_para_df(tweet) for tweet in parsed_tweets]"
   ]
  },
  {
   "cell_type": "code",
   "execution_count": 30,
   "metadata": {},
   "outputs": [],
   "source": [
    "# Eliminar posições vazias\n",
    "parseados = [i for i in parseados if i is not None]"
   ]
  },
  {
   "cell_type": "code",
   "execution_count": 31,
   "metadata": {},
   "outputs": [
    {
     "data": {
      "text/plain": [
       "15571"
      ]
     },
     "execution_count": 31,
     "metadata": {},
     "output_type": "execute_result"
    }
   ],
   "source": [
    "len(parseados)"
   ]
  },
  {
   "cell_type": "code",
   "execution_count": 32,
   "metadata": {},
   "outputs": [],
   "source": [
    "tratado = pd.concat(parseados, ignore_index=True)"
   ]
  },
  {
   "cell_type": "code",
   "execution_count": null,
   "metadata": {},
   "outputs": [],
   "source": [
    "tratado"
   ]
  },
  {
   "cell_type": "markdown",
   "metadata": {},
   "source": [
    "## Ingestão de dados do twitter no SQL Server"
   ]
  },
  {
   "cell_type": "code",
   "execution_count": 36,
   "metadata": {},
   "outputs": [
    {
     "name": "stdout",
     "output_type": "stream",
     "text": [
      "Requirement already satisfied: sqlalchemy in c:\\users\\marco\\anaconda3\\lib\\site-packages (1.3.20)\n"
     ]
    }
   ],
   "source": [
    "#!pip install pyodbc \n",
    "!pip install sqlalchemy"
   ]
  },
  {
   "cell_type": "code",
   "execution_count": null,
   "metadata": {},
   "outputs": [],
   "source": [
    "import pyodbc \n",
    "import sqlalchemy"
   ]
  }
 ],
 "metadata": {
  "kernelspec": {
   "display_name": "Python 3",
   "language": "python",
   "name": "python3"
  },
  "language_info": {
   "codemirror_mode": {
    "name": "ipython",
    "version": 3
   },
   "file_extension": ".py",
   "mimetype": "text/x-python",
   "name": "python",
   "nbconvert_exporter": "python",
   "pygments_lexer": "ipython3",
   "version": "3.8.5"
  }
 },
 "nbformat": 4,
 "nbformat_minor": 4
}
